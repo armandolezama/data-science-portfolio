{
 "cells": [
  {
   "cell_type": "markdown",
   "metadata": {},
   "source": [
    "https://towardsdatascience.com/hypothesis-testing-with-python-step-by-step-hands-on-tutorial-with-practical-examples-e805975ea96e\n",
    "\n",
    "https://towardsdatascience.com/hypothesis-testing-in-machine-learning-using-python-a0dc89e169ce\n",
    "\n",
    "https://machinelearningmastery.com/statistical-hypothesis-tests-in-python-cheat-sheet/\n",
    "\n",
    "https://www.investopedia.com/terms/h/hypothesistesting.asp"
   ]
  },
  {
   "attachments": {},
   "cell_type": "markdown",
   "metadata": {},
   "source": [
    "# Hypothesis testing\n",
    "\n",
    "## What is Hypothesis testing?\n",
    "\n",
    "Hypothesis testing is an act in statistics whereby an analyst tests an assumption regarding a population parameter. The methodology employed by the analyst depends on the nature of the data used and the reason for the analysis.\n",
    "\n",
    "Hypothesis testing is used to assess the plausibility of a hypothesis by using sample data. Such data may come from a larger population, or from a data-generating process. The word \"population\" will be used for both of these cases in the following descriptions"
   ]
  },
  {
   "attachments": {},
   "cell_type": "markdown",
   "metadata": {},
   "source": [
    "### Key Takeaways\n",
    "\n",
    "-   Hypothesis testing is used to assess the plausibility of a hypothesis by using sample data.\n",
    "-   The test provides evidence concerning the plausibility of the hypothesis, given the data.\n",
    "-   Statistical analysts test a hypothesis by measuring and examining a random sample of the population being analyzed."
   ]
  },
  {
   "attachments": {},
   "cell_type": "markdown",
   "metadata": {},
   "source": [
    "## How Hypothesis Testing Works\n",
    "\n",
    "In hypothesis testing, an analyst tests a statistical sample, with the goal of providing evidence on the plausibility of the **null hypothesis**.\n",
    "\n",
    "Statistical analysts test a hypothesis by measuring and examining a random sample of the population being analyzed. All analysts use a random population sample to test two different hypotheses: the **null hypothesis** and the **alternative hypothesis**.\n",
    "\n",
    "The **null hypothesis** is usually a hypothesis of equality between population parameters; e.g., a **null hypothesis** may state that the population mean return is equal to zero. The **alternative hypothesis** is effectively the opposite of a **null hypothesis** (e.g., the population mean return is not equal to zero). Thus, they are mutually exclusive, and only one can be true. However, one of the two hypotheses will always be true."
   ]
  },
  {
   "attachments": {},
   "cell_type": "markdown",
   "metadata": {},
   "source": [
    "### 4 Steps of Hypothesis Testing\n",
    "\n",
    "All hypotheses are tested using a four-step process:\n",
    "\n",
    "1.  The first step is for the analyst to state the two hypotheses so that only one can be right.\n",
    "2.  The next step is to formulate an analysis plan, which outlines how the data will be evaluated.\n",
    "3.  The third step is to carry out the plan and physically analyze the sample data.\n",
    "4.  The fourth and final step is to analyze the results and either reject the null hypothesis, or state that the null hypothesis is plausible, given the data."
   ]
  },
  {
   "attachments": {},
   "cell_type": "markdown",
   "metadata": {},
   "source": [
    "## Real-World Example of Hypothesis Testing\n",
    "\n",
    "If, for example, a person wants to test that a penny has exactly a 50% chance of landing on heads, the null hypothesis would be that 50% is correct, and the alternative hypothesis would be that 50% is not correct.\n",
    "\n",
    "Mathematically, the null hypothesis would be represented as **Ho: P = 0.5**. The alternative hypothesis would be denoted as \"Ha\" and be identical to the null hypothesis, except with the equal sign struck-through, **Ho: P ≠ 0.5**, meaning that it does not equal 50%.\n",
    "\n",
    "A random sample of 100 coin flips is taken, and the null hypothesis is then tested. If it is found that the 100 coin flips were distributed as 40 heads and 60 tails, the analyst would assume that a penny does not have a 50% chance of landing on heads and would reject the null hypothesis and accept the alternative hypothesis.\n",
    "\n",
    "If, on the other hand, there were 48 heads and 52 tails, then it is plausible that the coin could be fair and still produce such a result. In cases such as this where the null hypothesis is \"accepted,\" the analyst states that the difference between the expected results (50 heads and 50 tails) and the observed results (48 heads and 52 tails) is \"explainable by chance alone.\""
   ]
  },
  {
   "cell_type": "code",
   "execution_count": 25,
   "metadata": {},
   "outputs": [
    {
     "name": "stdout",
     "output_type": "stream",
     "text": [
      "BinomTestResult(k=46, n=100, alternative='two-sided', proportion_estimate=0.46, pvalue=0.48411841360729146)\n",
      "BinomTestResult(k=26, n=100, alternative='two-sided', proportion_estimate=0.26, pvalue=1.6673626494501009e-06)\n"
     ]
    }
   ],
   "source": [
    "from numpy.random import binomial\n",
    "from scipy.stats import binomtest\n",
    "\n",
    "fairCoinToss:list = list(binomial(1, 0.5, 100))\n",
    "\n",
    "unfairCoinToss:list  = list(binomial(1, 0.2, 100))\n",
    "\n",
    "fairCoinTossData = {\n",
    "  'sucess': fairCoinToss.count(1),\n",
    "  'trials':  len(fairCoinToss),\n",
    "}\n",
    "\n",
    "unfairCoinTossData = {\n",
    "  'sucess': unfairCoinToss.count(1),\n",
    "  'trials':  len(unfairCoinToss),\n",
    "}\n",
    "\n",
    "fairResult = binomtest(k=fairCoinTossData['sucess'], n=fairCoinTossData['trials'], p=0.5)\n",
    "\n",
    "unfairResult = binomtest(k=unfairCoinTossData['sucess'], n=unfairCoinTossData['trials'], p=0.5)\n",
    "\n",
    "print(fairResult)\n",
    "\n",
    "print(unfairResult)"
   ]
  },
  {
   "attachments": {},
   "cell_type": "markdown",
   "metadata": {},
   "source": [
    "In the fair coin toss the null hypothesis cannot be rejected at the 5% level of significance because the returned p value is greater than the critical value of 5%.\n",
    "\n",
    "Meanwhile in the unfair coin toss the null hypothesis can be rejected, because the p value is too lower than 5% or 0.05.\n",
    "\n",
    "For more information check binomial testing:\n",
    "\n",
    "https://en.wikipedia.org/wiki/Binomial_test\n",
    "\n",
    "\n",
    "The basic of hypothesis is [normalisation](https://en.wikipedia.org/wiki/Normalization_(statistics)) and [standard normalisation](https://stats.stackexchange.com/questions/10289/whats-the-difference-between-normalization-and-standardization). All our hypothesis is revolve around basic of these 2 terms. let’s see these.\n",
    "\n",
    "For more about null hypothesis: https://www.investopedia.com/terms/n/null_hypothesis.asp."
   ]
  }
 ],
 "metadata": {
  "kernelspec": {
   "display_name": "DataSciencePortfolio",
   "language": "python",
   "name": "python3"
  },
  "language_info": {
   "codemirror_mode": {
    "name": "ipython",
    "version": 3
   },
   "file_extension": ".py",
   "mimetype": "text/x-python",
   "name": "python",
   "nbconvert_exporter": "python",
   "pygments_lexer": "ipython3",
   "version": "3.9.13 (main, Oct 13 2022, 21:15:33) \n[GCC 11.2.0]"
  },
  "orig_nbformat": 4,
  "vscode": {
   "interpreter": {
    "hash": "804f7c1159461c5553bb43911b590b97c8b0a508a13a3b60eff5021f9a8dd163"
   }
  }
 },
 "nbformat": 4,
 "nbformat_minor": 2
}
