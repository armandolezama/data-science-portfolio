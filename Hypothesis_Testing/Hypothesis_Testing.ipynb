{
 "cells": [
  {
   "attachments": {},
   "cell_type": "markdown",
   "metadata": {},
   "source": [
    "https://towardsdatascience.com/hypothesis-testing-with-python-step-by-step-hands-on-tutorial-with-practical-examples-e805975ea96e\n",
    "\n",
    "https://towardsdatascience.com/hypothesis-testing-in-machine-learning-using-python-a0dc89e169ce\n",
    "\n",
    "https://machinelearningmastery.com/statistical-hypothesis-tests-in-python-cheat-sheet/\n",
    "\n",
    "https://www.investopedia.com/terms/h/hypothesistesting.asp\n",
    "\n",
    "https://www.pythonfordatascience.org/independent-samples-t-test-python/\n",
    "\n",
    "https://www.pythonfordatascience.org/parametric-assumptions-python/"
   ]
  },
  {
   "attachments": {},
   "cell_type": "markdown",
   "metadata": {},
   "source": [
    "# Hypothesis testing\n",
    "\n",
    "## What is Hypothesis testing?\n",
    "\n",
    "Hypothesis testing is an act in statistics whereby an analyst tests an assumption regarding a population parameter. The methodology employed by the analyst depends on the nature of the data used and the reason for the analysis.\n",
    "\n",
    "Hypothesis testing is used to assess the plausibility of a hypothesis by using sample data. Such data may come from a larger population, or from a data-generating process. The word \"population\" will be used for both of these cases in the following descriptions"
   ]
  },
  {
   "attachments": {},
   "cell_type": "markdown",
   "metadata": {},
   "source": [
    "### Key Takeaways\n",
    "\n",
    "-   Hypothesis testing is used to assess the plausibility of a hypothesis by using sample data.\n",
    "-   The test provides evidence concerning the plausibility of the hypothesis, given the data.\n",
    "-   Statistical analysts test a hypothesis by measuring and examining a random sample of the population being analyzed."
   ]
  },
  {
   "attachments": {},
   "cell_type": "markdown",
   "metadata": {},
   "source": [
    "## How Hypothesis Testing Works\n",
    "\n",
    "In hypothesis testing, an analyst tests a statistical sample, with the goal of providing evidence on the plausibility of the **null hypothesis**.\n",
    "\n",
    "Statistical analysts test a hypothesis by measuring and examining a random sample of the population being analyzed. All analysts use a random population sample to test two different hypotheses: the **null hypothesis** and the **alternative hypothesis**.\n",
    "\n",
    "The **null hypothesis** is usually a hypothesis of equality between population parameters; e.g., a **null hypothesis** may state that the population mean return is equal to zero. The **alternative hypothesis** is effectively the opposite of a **null hypothesis** (e.g., the population mean return is not equal to zero). Thus, they are mutually exclusive, and only one can be true. However, one of the two hypotheses will always be true."
   ]
  },
  {
   "attachments": {},
   "cell_type": "markdown",
   "metadata": {},
   "source": [
    "### 4 Steps of Hypothesis Testing\n",
    "\n",
    "All hypotheses are tested using a four-step process:\n",
    "\n",
    "1.  The first step is for the analyst to state the two hypotheses so that only one can be right.\n",
    "2.  The next step is to formulate an analysis plan, which outlines how the data will be evaluated.\n",
    "3.  The third step is to carry out the plan and physically analyze the sample data.\n",
    "4.  The fourth and final step is to analyze the results and either reject the null hypothesis, or state that the null hypothesis is plausible, given the data."
   ]
  },
  {
   "attachments": {},
   "cell_type": "markdown",
   "metadata": {},
   "source": [
    "## Real-World Example of Hypothesis Testing\n",
    "\n",
    "If, for example, a person wants to test that a penny has exactly a 50% chance of landing on heads, the null hypothesis would be that 50% is correct, and the alternative hypothesis would be that 50% is not correct.\n",
    "\n",
    "Mathematically, the null hypothesis would be represented as **Ho: P = 0.5**. The alternative hypothesis would be denoted as \"Ha\" and be identical to the null hypothesis, except with the equal sign struck-through, **Ho: P ≠ 0.5**, meaning that it does not equal 50%.\n",
    "\n",
    "A random sample of 100 coin flips is taken, and the null hypothesis is then tested. If it is found that the 100 coin flips were distributed as 40 heads and 60 tails, the analyst would assume that a penny does not have a 50% chance of landing on heads and would reject the null hypothesis and accept the alternative hypothesis.\n",
    "\n",
    "If, on the other hand, there were 48 heads and 52 tails, then it is plausible that the coin could be fair and still produce such a result. In cases such as this where the null hypothesis is \"accepted,\" the analyst states that the difference between the expected results (50 heads and 50 tails) and the observed results (48 heads and 52 tails) is \"explainable by chance alone.\""
   ]
  },
  {
   "cell_type": "code",
   "execution_count": 3,
   "metadata": {},
   "outputs": [
    {
     "name": "stdout",
     "output_type": "stream",
     "text": [
      "BinomTestResult(k=493, n=1000, alternative='two-sided', proportion_estimate=0.493, pvalue=0.6810229832764916)\n",
      "BinomTestResult(k=196, n=1000, alternative='two-sided', proportion_estimate=0.196, pvalue=6.107128666211852e-88)\n"
     ]
    }
   ],
   "source": [
    "from numpy.random import binomial\n",
    "from scipy.stats import binomtest\n",
    "\n",
    "fairCoinToss:list = list(binomial(1, 0.5, 1000))\n",
    "\n",
    "unfairCoinToss:list  = list(binomial(1, 0.2, 1000))\n",
    "\n",
    "fairCoinTossData = {\n",
    "  'sucess': fairCoinToss.count(1),\n",
    "  'trials':  len(fairCoinToss),\n",
    "}\n",
    "\n",
    "unfairCoinTossData = {\n",
    "  'sucess': unfairCoinToss.count(1),\n",
    "  'trials':  len(unfairCoinToss),\n",
    "}\n",
    "\n",
    "fairResult = binomtest(k=fairCoinTossData['sucess'], n=fairCoinTossData['trials'], p=0.5)\n",
    "\n",
    "unfairResult = binomtest(k=unfairCoinTossData['sucess'], n=unfairCoinTossData['trials'], p=0.5)\n",
    "\n",
    "print(fairResult)\n",
    "\n",
    "print(unfairResult)"
   ]
  },
  {
   "attachments": {},
   "cell_type": "markdown",
   "metadata": {},
   "source": [
    "In the fair coin toss the null hypothesis cannot be rejected at the 5% level of significance because the returned p value is greater than the critical value of 5%.\n",
    "\n",
    "Meanwhile in the unfair coin toss the null hypothesis can be rejected, because the p value is too lower than 5% or 0.05.\n",
    "\n",
    "For more information check binomial testing:\n",
    "\n",
    "https://en.wikipedia.org/wiki/Binomial_test\n",
    "\n",
    "\n",
    "The basic of hypothesis is [normalisation](https://en.wikipedia.org/wiki/Normalization_(statistics)) and [standard normalisation](https://stats.stackexchange.com/questions/10289/whats-the-difference-between-normalization-and-standardization). All our hypothesis is revolve around basic of these 2 terms. let’s see these.\n",
    "\n",
    "For more about null hypothesis: https://www.investopedia.com/terms/n/null_hypothesis.asp."
   ]
  },
  {
   "attachments": {},
   "cell_type": "markdown",
   "metadata": {},
   "source": [
    "## T-Test\n",
    "The indepentent T-test is a parametric test used to test for a statistically significant difference in the means between 2 groups. As with all parametric tests, there are certain conditions that need to be met in order for the test results to be considered reliable.\n",
    "\n",
    "The conditions required to conduct a t-test include the measured values in ratio scale or interval scale, simple random extraction, homogeneity of variance, appropriate sample size, and normal distribution of data. The normality assumption means that the collected data follows a normal distribution, which is essential for parametric assumption [Source](https://www.ncbi.nlm.nih.gov/pmc/articles/PMC6676026/#:~:text=The%20conditions%20required%20to%20conduct%20a%20t%2Dtest%20include%20the,and%20normal%20distribution%20of%20data.).\n"
   ]
  },
  {
   "attachments": {},
   "cell_type": "markdown",
   "metadata": {},
   "source": [
    "\n",
    "### Parametric assumptions\n",
    "\n",
    "Parametric tests have the same assumptions, or conditions, that need to be met in order for the analysis to be considered reliable.\n",
    "\n",
    "1.- Independence\n",
    "\n",
    "2.- Population distributions are normal\n",
    "\n",
    "3.- Samples have equal variances\n"
   ]
  },
  {
   "attachments": {},
   "cell_type": "markdown",
   "metadata": {},
   "source": [
    "Now to load the data set and take a high level look at the variables."
   ]
  },
  {
   "cell_type": "code",
   "execution_count": 5,
   "metadata": {},
   "outputs": [],
   "source": [
    "import pandas as pd\n",
    "import researchpy as rp\n",
    "import scipy.stats as stats"
   ]
  },
  {
   "cell_type": "code",
   "execution_count": 7,
   "metadata": {},
   "outputs": [
    {
     "name": "stdout",
     "output_type": "stream",
     "text": [
      "<class 'pandas.core.frame.DataFrame'>\n",
      "RangeIndex: 120 entries, 0 to 119\n",
      "Data columns (total 5 columns):\n",
      " #   Column     Non-Null Count  Dtype \n",
      "---  ------     --------------  ----- \n",
      " 0   patient    120 non-null    int64 \n",
      " 1   sex        120 non-null    object\n",
      " 2   agegrp     120 non-null    object\n",
      " 3   bp_before  120 non-null    int64 \n",
      " 4   bp_after   120 non-null    int64 \n",
      "dtypes: int64(3), object(2)\n",
      "memory usage: 4.8+ KB\n"
     ]
    }
   ],
   "source": [
    "df = pd.read_csv(\"https://raw.githubusercontent.com/researchpy/Data-sets/master/blood_pressure.csv\")\n",
    "df.info()"
   ]
  },
  {
   "attachments": {},
   "cell_type": "markdown",
   "metadata": {},
   "source": [
    "### Indepedent T-test using researchpy\n",
    "\n",
    "The method returns 2 data frames, one that contains the summary statistical information and the other that contains the statistical test information. If the returned data frames are not stored as a Python object then the output will be less clean than it can be since it will be displayed as a tuple - see below."
   ]
  },
  {
   "cell_type": "code",
   "execution_count": 5,
   "metadata": {},
   "outputs": [
    {
     "name": "stdout",
     "output_type": "stream",
     "text": [
      "   Variable      N        Mean         SD        SE   95% Conf.    Interval\n",
      "0      Male   60.0  155.516667  15.243217  1.967891  151.578926  159.454407\n",
      "1    Female   60.0  147.200000  11.742722  1.515979  144.166533  150.233467\n",
      "2  combined  120.0  151.358333  14.177622  1.294234  148.795621  153.921046\n"
     ]
    },
    {
     "name": "stderr",
     "output_type": "stream",
     "text": [
      "/home/armsjs/anaconda3/envs/DataSciencePortfolio/lib/python3.9/site-packages/researchpy/ttest.py:38: FutureWarning: The series.append method is deprecated and will be removed from pandas in a future version. Use pandas.concat instead.\n",
      "  groups = group1.append(group2, ignore_index= True)\n"
     ]
    }
   ],
   "source": [
    "summary, results = rp.ttest(group1= df['bp_after'][df['sex'] == 'Male'], group1_name= \"Male\",\n",
    "                            group2= df['bp_after'][df['sex'] == 'Female'], group2_name= \"Female\")\n",
    "print(summary)"
   ]
  },
  {
   "cell_type": "code",
   "execution_count": 6,
   "metadata": {},
   "outputs": [
    {
     "name": "stdout",
     "output_type": "stream",
     "text": [
      "              Independent t-test   results\n",
      "0  Difference (Male - Female) =     8.3167\n",
      "1          Degrees of freedom =   118.0000\n",
      "2                           t =     3.3480\n",
      "3       Two side test p value =     0.0011\n",
      "4      Difference < 0 p value =     0.9995\n",
      "5      Difference > 0 p value =     0.0005\n",
      "6                   Cohen's d =     0.6112\n",
      "7                   Hedge's g =     0.6074\n",
      "8              Glass's delta1 =     0.5456\n",
      "9            Point-Biserial r =     0.2945\n"
     ]
    }
   ],
   "source": [
    "print(results)"
   ]
  },
  {
   "attachments": {},
   "cell_type": "markdown",
   "metadata": {},
   "source": [
    "### Interpretation\n",
    "The average blood pressure after the treatment for males, M= 155.2 (151.6, 159.5), was statistically signigicantly higher than females, M= 147.2 (144.2, 150.2); t(118)= 3.3480, p= 0.001."
   ]
  },
  {
   "attachments": {},
   "cell_type": "markdown",
   "metadata": {},
   "source": [
    "### Indepedent T-test using scipy.stats\n",
    "\n",
    "This method conducts the independent sample t-test and returns only the t test statistic and it's associated p-value. For more information about this method, please refer to the official documentation page."
   ]
  },
  {
   "cell_type": "code",
   "execution_count": 8,
   "metadata": {},
   "outputs": [
    {
     "data": {
      "text/plain": [
       "Ttest_indResult(statistic=3.3479506182111387, pvalue=0.0010930222986154283)"
      ]
     },
     "execution_count": 8,
     "metadata": {},
     "output_type": "execute_result"
    }
   ],
   "source": [
    "stats.ttest_ind(df['bp_after'][df['sex'] == 'Male'],\n",
    "                df['bp_after'][df['sex'] == 'Female'])"
   ]
  },
  {
   "attachments": {},
   "cell_type": "markdown",
   "metadata": {},
   "source": [
    "### Interpretation\n",
    "\n",
    "There is a statistically significant difference in the average post blood pressure between males and females, t= 3.3480, p= 0.001."
   ]
  }
 ],
 "metadata": {
  "kernelspec": {
   "display_name": "DataSciencePortfolio",
   "language": "python",
   "name": "python3"
  },
  "language_info": {
   "codemirror_mode": {
    "name": "ipython",
    "version": 3
   },
   "file_extension": ".py",
   "mimetype": "text/x-python",
   "name": "python",
   "nbconvert_exporter": "python",
   "pygments_lexer": "ipython3",
   "version": "3.9.13"
  },
  "orig_nbformat": 4,
  "vscode": {
   "interpreter": {
    "hash": "804f7c1159461c5553bb43911b590b97c8b0a508a13a3b60eff5021f9a8dd163"
   }
  }
 },
 "nbformat": 4,
 "nbformat_minor": 2
}
