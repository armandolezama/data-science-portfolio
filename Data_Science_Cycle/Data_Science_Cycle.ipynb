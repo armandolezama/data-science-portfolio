{
 "cells": [
  {
   "cell_type": "markdown",
   "metadata": {},
   "source": [
    "https://www.geeksforgeeks.org/data-science-lifecycle/\n",
    "\n",
    "https://www.datascience-pm.com/data-science-life-cycle/\n",
    "\n",
    "https://www.knowledgehut.com/blog/data-science/what-is-data-science-life-cycle\n",
    "\n",
    "https://towardsdatascience.com/the-5-step-data-science-project-life-cycle-you-need-to-be-an-effective-data-scientist-9343684b96cf\n",
    "\n",
    "https://careerfoundry.com/en/blog/data-analytics/the-data-analysis-process-step-by-step/\n",
    "\n",
    "https://medium.com/codex/6-phases-of-data-analysis-according-to-google-9e084b89f848\n",
    "\n",
    "https://www.linkedin.com/pulse/six-data-analysis-phases-gert-l%C3%B5hmus/\n",
    "\n",
    "https://www.sngular.com/es/data-science-crisp-dm-metodologia/\n",
    "\n",
    "https://www.datascience-pm.com/crisp-dm-2/\n",
    "\n",
    "https://www.mikelnino.com/2016/11/crisp-dm-metodologia-data-mining-modelado-modeling.html"
   ]
  }
 ],
 "metadata": {
  "kernelspec": {
   "display_name": "Python 3.10.4 64-bit",
   "language": "python",
   "name": "python3"
  },
  "language_info": {
   "name": "python",
   "version": "3.10.4"
  },
  "orig_nbformat": 4,
  "vscode": {
   "interpreter": {
    "hash": "916dbcbb3f70747c44a77c7bcd40155683ae19c65e1c03b4aa3499c5328201f1"
   }
  }
 },
 "nbformat": 4,
 "nbformat_minor": 2
}
