{
 "cells": [
  {
   "cell_type": "markdown",
   "metadata": {},
   "source": [
    "https://machinelearningmastery.com/rfe-feature-selection-in-python/\n",
    "\n",
    "https://www.section.io/engineering-education/recursive-feature-elimination/\n",
    "\n",
    "https://www.scikit-yb.org/en/latest/api/model_selection/rfecv.html\n",
    "\n",
    "https://towardsdatascience.com/powerful-feature-selection-with-recursive-feature-elimination-rfe-of-sklearn-23efb2cdb54e\n",
    "\n",
    "https://www.section.io/engineering-education/recursive-feature-elimination/\n",
    "\n",
    "For **classification** with **small training samples** and **high dimensionality**, feature selection plays an important role in avoiding **overfitting** problems and **improving classification performance**. One of the commonly used feature selection methods for small samples problems is **Recursive Feature Elimination** (RFE) method. RFE method utilizes the generalization capability embedded in **support vector machines** and is thus suitable for small **samples problems**. Despite its good performance, RFE tends to discard “weak” features, which may provide a significant improvement of performance when combined with other features. \n",
    "\n",
    "*Chen, Xue-wen & Jeong, Jong Cheol. (2008). Enhanced recursive feature elimination. 429 - 435. 10.1109/ICMLA.2007.35.*"
   ]
  }
 ],
 "metadata": {
  "kernelspec": {
   "display_name": "Python 3.10.4 64-bit",
   "language": "python",
   "name": "python3"
  },
  "language_info": {
   "name": "python",
   "version": "3.10.4"
  },
  "orig_nbformat": 4,
  "vscode": {
   "interpreter": {
    "hash": "916dbcbb3f70747c44a77c7bcd40155683ae19c65e1c03b4aa3499c5328201f1"
   }
  }
 },
 "nbformat": 4,
 "nbformat_minor": 2
}
