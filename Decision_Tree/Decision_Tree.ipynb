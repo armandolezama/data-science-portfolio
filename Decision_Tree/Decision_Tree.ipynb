{
 "cells": [
  {
   "attachments": {},
   "cell_type": "markdown",
   "metadata": {},
   "source": [
    "https://www.geeksforgeeks.org/decision-tree-introduction-example/\n",
    "\n",
    "https://www.geeksforgeeks.org/decision-tree/\n",
    "\n",
    "https://towardsai.net/p/programming/decision-trees-explained-with-a-practical-example-fe47872d3b53\n",
    "\n",
    "https://www.hackerearth.com/practice/machine-learning/machine-learning-algorithms/ml-decision-tree/tutorial/\n",
    "\n"
   ]
  }
 ],
 "metadata": {
  "language_info": {
   "name": "python"
  },
  "orig_nbformat": 4
 },
 "nbformat": 4,
 "nbformat_minor": 2
}
