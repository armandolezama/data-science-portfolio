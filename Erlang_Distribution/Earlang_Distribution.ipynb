{
 "cells": [
  {
   "cell_type": "markdown",
   "metadata": {},
   "source": [
    "https://www.geeksforgeeks.org/scipy-stats-erlang-python/\n",
    "\n",
    "https://docs.scipy.org/doc/scipy/reference/generated/scipy.stats.erlang.html\n",
    "\n",
    "https://medium.com/@c.chaipitakporn/poisson-exponential-and-erlang-distributions-1f4ccb435153"
   ]
  }
 ],
 "metadata": {
  "kernelspec": {
   "display_name": "Python 3.10.4 64-bit",
   "language": "python",
   "name": "python3"
  },
  "language_info": {
   "name": "python",
   "version": "3.10.4"
  },
  "orig_nbformat": 4,
  "vscode": {
   "interpreter": {
    "hash": "916dbcbb3f70747c44a77c7bcd40155683ae19c65e1c03b4aa3499c5328201f1"
   }
  }
 },
 "nbformat": 4,
 "nbformat_minor": 2
}
