{
 "cells": [
  {
   "cell_type": "markdown",
   "metadata": {},
   "source": [
    "https://www.statology.org/gamma-distribution-in-python/\n",
    "\n",
    "https://www.statisticshowto.com/gamma-distribution/\n",
    "\n",
    "https://www.statisticshowto.com/gamma-poisson-distribution/\n",
    "\n",
    "https://towardsdatascience.com/gamma-distribution-intuition-derivation-and-examples-55f407423840\n"
   ]
  }
 ],
 "metadata": {
  "kernelspec": {
   "display_name": "Python 3.10.4 64-bit",
   "language": "python",
   "name": "python3"
  },
  "language_info": {
   "name": "python",
   "version": "3.10.4 (main, May 14 2022, 05:40:22) [GCC 11.3.0]"
  },
  "orig_nbformat": 4,
  "vscode": {
   "interpreter": {
    "hash": "916dbcbb3f70747c44a77c7bcd40155683ae19c65e1c03b4aa3499c5328201f1"
   }
  }
 },
 "nbformat": 4,
 "nbformat_minor": 2
}
