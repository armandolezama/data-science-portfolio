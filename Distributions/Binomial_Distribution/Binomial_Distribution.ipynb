{
 "cells": [
  {
   "cell_type": "markdown",
   "metadata": {},
   "source": [
    "https://www.geeksforgeeks.org/python-binomial-distribution/\n",
    "\n",
    "https://www.w3schools.com/python/numpy/numpy_random_binomial.asp\n",
    "\n",
    "https://pyshark.com/binomial-distribution-and-binomial-test-in-python/"
   ]
  },
  {
   "cell_type": "markdown",
   "metadata": {},
   "source": [
    "\n",
    "## Binomial distribution\n",
    "\n",
    "In **binomial distribution**, the distribution indicates a probability that *k* events occur or successful in *n* trials with the following equation.\n",
    "\n",
    "**$P(X = k) = \\frac{n!}{k!(n-k)!}p^{k}(1-p)^{n-k}$**\n",
    "\n",
    "Where *n* is a number of trails, *k* is a number of successful events, and *p* is a probability of successful events.\n",
    "\n",
    "this can be expressed as well:\n",
    "\n",
    "**$P(X = k) = \\frac{{}_{n} C_{k}}{(1/p)^{n}} $**\n",
    "\n",
    "Where **$(1/p)$** is the total options in binomial distribution (and i think, in every discrete distributions).\n"
   ]
  }
 ],
 "metadata": {
  "kernelspec": {
   "display_name": "Python 3.10.4 64-bit",
   "language": "python",
   "name": "python3"
  },
  "language_info": {
   "name": "python",
   "version": "3.10.4"
  },
  "orig_nbformat": 4,
  "vscode": {
   "interpreter": {
    "hash": "916dbcbb3f70747c44a77c7bcd40155683ae19c65e1c03b4aa3499c5328201f1"
   }
  }
 },
 "nbformat": 4,
 "nbformat_minor": 2
}
