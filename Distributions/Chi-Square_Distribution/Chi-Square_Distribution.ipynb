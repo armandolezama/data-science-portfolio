{
 "cells": [
  {
   "cell_type": "markdown",
   "metadata": {},
   "source": [
    "https://www.statisticshowto.com/probability-and-statistics/chi-square/\n",
    "\n",
    "https://stats.stackexchange.com/questions/353645/chi-square-versus-poisson-distribution\n",
    "\n",
    "https://stats.stackexchange.com/questions/365453/why-do-chi-square-distribution-and-poisson-look-similar\n",
    "\n",
    "https://analyticsindiamag.com/a-beginners-guide-to-chi-square-test-in-python-from-scratch/\n",
    "\n",
    "https://www.pythonfordatascience.org/chi-square-test-of-independence-python/\n"
   ]
  }
 ],
 "metadata": {
  "kernelspec": {
   "display_name": "Python 3.9.13 ('DataSciencePortfolio')",
   "language": "python",
   "name": "python3"
  },
  "language_info": {
   "name": "python",
   "version": "3.9.13 (main, Oct 13 2022, 21:15:33) \n[GCC 11.2.0]"
  },
  "orig_nbformat": 4,
  "vscode": {
   "interpreter": {
    "hash": "804f7c1159461c5553bb43911b590b97c8b0a508a13a3b60eff5021f9a8dd163"
   }
  }
 },
 "nbformat": 4,
 "nbformat_minor": 2
}
